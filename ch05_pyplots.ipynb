{
  "nbformat": 4,
  "nbformat_minor": 0,
  "metadata": {
    "colab": {
      "private_outputs": true,
      "provenance": [],
      "authorship_tag": "ABX9TyOWnJEPjQRsvkJ1aXlKhh+c",
      "include_colab_link": true
    },
    "kernelspec": {
      "name": "python3",
      "display_name": "Python 3"
    },
    "language_info": {
      "name": "python"
    }
  },
  "cells": [
    {
      "cell_type": "markdown",
      "metadata": {
        "id": "view-in-github",
        "colab_type": "text"
      },
      "source": [
        "<a href=\"https://colab.research.google.com/github/jinkimh/cls_data_science/blob/main/ch05_pyplots.ipynb\" target=\"_parent\"><img src=\"https://colab.research.google.com/assets/colab-badge.svg\" alt=\"Open In Colab\"/></a>"
      ]
    },
    {
      "cell_type": "code",
      "execution_count": null,
      "metadata": {
        "id": "4DpnocwCvMse"
      },
      "outputs": [],
      "source": [
        "# 1. Line plot:\n",
        "import matplotlib.pyplot as plt\n",
        "import numpy as np\n",
        "\n",
        "x = np.linspace(0, 10, 100)\n",
        "y = np.sin(x)\n",
        "\n",
        "plt.plot(x, y)\n",
        "plt.xlabel('X')\n",
        "plt.ylabel('Y')\n",
        "plt.title('Sine Wave')\n",
        "plt.show()\n"
      ]
    },
    {
      "cell_type": "code",
      "source": [
        "# Scatter plot:\n",
        "import matplotlib.pyplot as plt\n",
        "import numpy as np\n",
        "\n",
        "x = np.random.rand(50)\n",
        "y = np.random.rand(50)\n",
        "colors = np.random.rand(50)\n",
        "sizes = 1000 * np.random.rand(50)\n",
        "\n",
        "plt.scatter(x, y, c=colors, s=sizes)\n",
        "plt.xlabel('X')\n",
        "plt.ylabel('Y')\n",
        "plt.title('Scatter Plot')\n",
        "plt.show()\n"
      ],
      "metadata": {
        "id": "iWuzkBYYvPWG"
      },
      "execution_count": null,
      "outputs": []
    },
    {
      "cell_type": "code",
      "source": [
        "# Bar chart\n",
        "import matplotlib.pyplot as plt\n",
        "\n",
        "x = ['A', 'B', 'C', 'D', 'E']\n",
        "y = [10, 8, 6, 4, 2]\n",
        "\n",
        "plt.bar(x, y)\n",
        "plt.xlabel('X')\n",
        "plt.ylabel('Y')\n",
        "plt.title('Bar Chart')\n",
        "plt.show()\n"
      ],
      "metadata": {
        "id": "wOjzKL4VvRXs"
      },
      "execution_count": null,
      "outputs": []
    },
    {
      "cell_type": "code",
      "source": [
        "# Pie Chart \n",
        "\n",
        "import matplotlib.pyplot as plt\n",
        "\n",
        "labels = ['A', 'B', 'C', 'D', 'E']\n",
        "sizes = [10, 8, 6, 4, 2]\n",
        "\n",
        "plt.pie(sizes, labels=labels, autopct='%1.1f%%')\n",
        "plt.title('Pie Chart')\n",
        "plt.show()\n"
      ],
      "metadata": {
        "id": "aQcgGCOxvSTK"
      },
      "execution_count": null,
      "outputs": []
    },
    {
      "cell_type": "code",
      "source": [
        "# Histogram:\n",
        "\n",
        "import matplotlib.pyplot as plt\n",
        "import numpy as np\n",
        "\n",
        "x = np.random.randn(1000)\n",
        "\n",
        "plt.hist(x, bins=30)\n",
        "plt.xlabel('X')\n",
        "plt.ylabel('Frequency')\n",
        "plt.title('Histogram')\n",
        "plt.show()\n"
      ],
      "metadata": {
        "id": "3WYBkflkvSVq"
      },
      "execution_count": null,
      "outputs": []
    },
    {
      "cell_type": "code",
      "source": [
        "# Box plot \n",
        "\n",
        "import matplotlib.pyplot as plt\n",
        "import numpy as np\n",
        "\n",
        "x = np.random.randn(100)\n",
        "\n",
        "plt.boxplot(x)\n",
        "plt.ylabel('X')\n",
        "plt.title('Box Plot')\n",
        "plt.show()\n"
      ],
      "metadata": {
        "id": "jMIkFJYtvSYO"
      },
      "execution_count": null,
      "outputs": []
    },
    {
      "cell_type": "code",
      "source": [
        "# Contour plot\n",
        "\n",
        "import matplotlib.pyplot as plt\n",
        "import numpy as np\n",
        "\n",
        "x = np.linspace(-5, 5, 100)\n",
        "y = np.linspace(-5, 5, 100)\n",
        "X, Y = np.meshgrid(x, y)\n",
        "Z = np.sin(np.sqrt(X**2 + Y**2))\n",
        "\n",
        "plt.contour(X, Y, Z)\n",
        "plt.xlabel('X')\n",
        "plt.ylabel('Y')\n",
        "plt.title('Contour Plot')\n",
        "plt.show()\n"
      ],
      "metadata": {
        "id": "hK6RC8dUvSa_"
      },
      "execution_count": null,
      "outputs": []
    },
    {
      "cell_type": "code",
      "source": [
        "# Polar plot:\n",
        "\n",
        "import matplotlib.pyplot as plt\n",
        "import numpy as np\n",
        "\n",
        "theta = np.linspace(0, 2*np.pi, 100)\n",
        "r = np.sin(3*theta)\n",
        "\n",
        "plt.polar(theta, r)\n",
        "plt.title('Polar Plot')\n",
        "plt.show()\n"
      ],
      "metadata": {
        "id": "tABD70ifvSdo"
      },
      "execution_count": null,
      "outputs": []
    },
    {
      "cell_type": "code",
      "source": [
        "# 3D plot\n",
        "import matplotlib.pyplot as plt\n",
        "import numpy as np\n",
        "from mpl_toolkits.mplot3d import Axes3D\n",
        "\n",
        "fig = plt.figure()\n",
        "ax = fig.add_subplot(111, projection='3d')\n",
        "\n",
        "x = np.linspace(-5, 5, 100)\n",
        "y = np.linspace(-5, 5, 100)\n",
        "X, Y = np.meshgrid(x, y)\n",
        "Z = np.sin(np.sqrt(X**2 + Y**2))\n",
        "\n",
        "ax.plot_surface(X, Y, Z)\n",
        "ax.set_xlabel('X')\n",
        "ax.set_ylabel('Y')\n",
        "ax.set_zlabel('Z')\n",
        "ax.set_title('3D Plot')\n",
        "plt.show()\n"
      ],
      "metadata": {
        "id": "DcaF8ZU3vSgH"
      },
      "execution_count": null,
      "outputs": []
    },
    {
      "cell_type": "code",
      "source": [
        "# Heat map\n",
        "import matplotlib.pyplot as plt\n",
        "import numpy as np\n",
        "\n",
        "data = np.random.rand(5, 5)\n",
        "\n",
        "plt.imshow(data, cmap='hot', interpolation='nearest')\n",
        "plt.colorbar()\n",
        "plt.title('Heatmap')\n",
        "plt.show()\n",
        "\n",
        "\n"
      ],
      "metadata": {
        "id": "236OyvMVvSjI"
      },
      "execution_count": null,
      "outputs": []
    },
    {
      "cell_type": "code",
      "source": [],
      "metadata": {
        "id": "rm64-Uz4vSmE"
      },
      "execution_count": null,
      "outputs": []
    }
  ]
}